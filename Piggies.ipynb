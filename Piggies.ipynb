{
 "cells": [
  {
   "cell_type": "markdown",
   "id": "18238fb9",
   "metadata": {},
   "source": [
    "# Welcome to the Guinea Pig simulator!\n",
    "This program will generate a variant on a guinea pig gene to show you the impact a small change in GENOTYPE can make in PHENOTYPE.\n",
    "\n",
    "Ready? Let's begin!\n",
    "\n",
    "The gene we are editing is called FAKE-123 and it is a very important gene in these digital Guinea Pigs.\n",
    "\n",
    "First, let's take a look at average guinea pigs.\n",
    "\n",
    "![Wild Type](images/parents.png)"
   ]
  },
  {
   "cell_type": "markdown",
   "id": "7c3dcffb",
   "metadata": {},
   "source": [
    "As you can see, they are typical brown guinea pigs. Here is their genome:\n",
    "\n",
    "![Guinea Pig FAKE-123 reference](images/Reference.png)"
   ]
  },
  {
   "cell_type": "markdown",
   "id": "77283a35",
   "metadata": {},
   "source": [
    "Most of these wild digital guinea pigs share the same FAKE-123 gene. This arrangement of nucleotides makes them the same color.\n",
    "\n",
    "With the **NEAT** genetic simulator, we can take a reference like the one above and mutate it to produce a new sequence. This new sequence might produce some interesting results! Try it for yourself!"
   ]
  },
  {
   "cell_type": "code",
   "execution_count": null,
   "id": "8e0671df",
   "metadata": {
    "tags": [
     "remove-cell"
    ]
   },
   "outputs": [
    {
     "name": "stdout",
     "output_type": "stream",
     "text": [
      "Press Enter to begin.\n"
     ]
    }
   ],
   "source": [
    "import time\n",
    "import random\n",
    "import matplotlib.pyplot as plt\n",
    "import matplotlib.image as mpimg\n",
    "\n",
    "%matplotlib inline\n",
    "\n",
    "original_sequence = \"ACAGTAGCGA\"\n",
    "nucleotides = ['A', 'C', 'T', 'G']\n",
    "\n",
    "print(\"Press Enter to begin.\")\n",
    "input()\n",
    "print(\"Processing DNA sequence.\")\n",
    "for i in range(10):\n",
    "    time.sleep(0.2)\n",
    "    print('.', end=' ')\n",
    "print(\"100% complete.\")\n",
    "print(f\"Original sequence = {original_sequence}\")\n",
    "mutated_base = random.choices(range(1, 11), [10, 10, 10, 10, 1, 10, 10, 10, 10, 10])[0]\n",
    "print(f\"Mutating base #{mutated_base}\")\n",
    "time.sleep(0.5)\n",
    "print(f'Calculating results...')\n",
    "time.sleep(1)\n",
    "if mutated_base == 5:\n",
    "    print('Oh no! What happened to the T?')\n",
    "    img = mpimg.imread(f'images/result5.png')\n",
    "    plt.imshow(img)\n",
    "    ax = plt.gca()\n",
    "    ax.get_xaxis().set_visible(False)\n",
    "    ax.get_yaxis().set_visible(False)\n",
    "    plt.show()\n",
    "    print(\"This is known as a DELETION, one that caused a fatal disease in the digital guinea pig! I'm sorry, your guinea pig has died :\\(')\")\n",
    "else:\n",
    "    print(\"Your guinea pig has mutated! Here is it's new FAKE-123 gene.\")\n",
    "    img = mpimg.imread(f'images/result{str(mutated_base)}.png')\n",
    "    plt.imshow(img)\n",
    "    ax = plt.gca()\n",
    "    ax.get_xaxis().set_visible(False)\n",
    "    ax.get_yaxis().set_visible(False)\n",
    "    plt.show()\n",
    "\n",
    "time.sleep(1)\n",
    "print(f'Now to see how this genetic change has affected the PHENOTYPE of the guinea pig.')\n",
    "time.sleep(2)\n",
    "print(\"Processing guinea pig...\")\n",
    "for i in range(10):\n",
    "    time.sleep(0.2)\n",
    "    print('.', end=' ')\n",
    "print('.')\n",
    "if mutated_base == 5:\n",
    "    print(\"RIP...\")\n",
    "    img = mpimg.imread(f'images/pig5.png')\n",
    "    plt.imshow(img)\n",
    "    ax = plt.gca()\n",
    "    ax.get_xaxis().set_visible(False)\n",
    "    ax.get_yaxis().set_visible(False)\n",
    "    plt.show()\n",
    "else:\n",
    "    if mutated_base == 1:\n",
    "        print('A lighter color brown. Subtle.')\n",
    "    elif mutated_base == 2:\n",
    "        print('Fuscia?? Didn\\'t expect that!')\n",
    "    elif mutated_base == 3:\n",
    "        print(\"Nice two-tone guinea pig!\")\n",
    "    elif mutated_base == 4:\n",
    "        print(\"Oooh! The coveted goth guinea pig!\")\n",
    "    elif mutated_base == 6:\n",
    "        print(\"A white face and rump. Isn't she cute??\")\n",
    "    elif mutated_base == 7:\n",
    "        print(\"Tiger strips!!\")\n",
    "    elif mutated_base == 8:\n",
    "        print(\"The gray guinea pig. Fashionable.\")\n",
    "    elif mutated_base == 9:\n",
    "        print(\"Cool! This one's color seems to change depending on the angle!\")\n",
    "    elif mutated_base == 10:\n",
    "        print(\"This guinea pig may have transcended spacetime. You don't see that every day!\")\n",
    "    img = mpimg.imread(f'images/pig{str(mutated_base)}.png')\n",
    "    plt.imshow(img)\n",
    "    ax = plt.gca()\n",
    "    ax.get_xaxis().set_visible(False)\n",
    "    ax.get_yaxis().set_visible(False)\n",
    "    plt.show()\n",
    "    print(\"Isn't she cute! Why not color in a picture of her?\")\n"
   ]
  },
  {
   "cell_type": "code",
   "execution_count": null,
   "id": "bd465381",
   "metadata": {},
   "outputs": [],
   "source": []
  }
 ],
 "metadata": {
  "kernelspec": {
   "display_name": "Python 3",
   "language": "python",
   "name": "python3"
  },
  "language_info": {
   "codemirror_mode": {
    "name": "ipython",
    "version": 3
   },
   "file_extension": ".py",
   "mimetype": "text/x-python",
   "name": "python",
   "nbconvert_exporter": "python",
   "pygments_lexer": "ipython3",
   "version": "3.8.8"
  }
 },
 "nbformat": 4,
 "nbformat_minor": 5
}
